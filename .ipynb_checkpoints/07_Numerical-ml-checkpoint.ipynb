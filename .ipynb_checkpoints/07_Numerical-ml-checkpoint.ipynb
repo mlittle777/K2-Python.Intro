{
 "cells": [
  {
   "cell_type": "markdown",
   "metadata": {},
   "source": [
    "# Introduction\n",
    "\n",
    "Working with numbers is central to almost all scientific and engineering computations. \n",
    "The topic is so important that there are many dedicated libraries to help implement efficient numerical\n",
    "computations. There are even languages that are specifically designed for numerical computation, such as Fortran\n",
    "and MATLAB.\n",
    "\n",
    "NumPy (http://www.numpy.org/) is the most widely used Python library for numerical computations.  It provides an extensive range of data structures and functions for numerical\n",
    "computation. In this notebook we will explore just some of the functionality.\n",
    "You will be seeing NumPy in other courses. NumPy can perform many of the operations that you will learn\n",
    "during the mathematics courses.\n",
    "\n",
    "Another library, which largely builds on NumPy and provides additional functionality, is SciPy (https://www.scipy.org/). SciPy provides some  more specialised data structures and functions over NumPy. \n",
    "If you are familiar with MATLAB, NumPy and SciPy provide much of what is available in MATLAB.\n",
    "\n",
    "NumPy is a large and extensive library and this activity is just a very brief introduction.\n",
    "To discover how to perform operations with NumPy your best resources are search engines, such as http://stackoverflow.com/.\n",
    "\n",
    "\n",
    "## Objectives\n",
    "\n",
    "- Introduction to 1D and 2D arrays (vector and matrices) \n",
    "- Manipulating arrays (indexing, slicing, etc)\n",
    "- Apply elementary numerical operations\n",
    "- Demonstrate efficiency differences between vectorised and non-vectorised functions"
   ]
  },
  {
   "cell_type": "markdown",
   "metadata": {},
   "source": [
    "# Importing the NumPy module\n",
    "\n",
    "To make NumPy available in our programs, we need to import the module. It has become an informal custom to import NumPy using the shortcut '`np`': "
   ]
  },
  {
   "cell_type": "code",
   "execution_count": null,
   "metadata": {
    "collapsed": true
   },
   "outputs": [],
   "source": [
    "import numpy as np\n"
   ]
  },
  {
   "cell_type": "markdown",
   "metadata": {
    "collapsed": true
   },
   "source": [
    "# Numerical arrays\n",
    "\n",
    "We have already seen Python 'lists', which hold 'arrays' of data.  We can access the elements of a list using an index because the entries are stored in order. Python lists are very flexible and can hold mixed data types, e.g. combinations op floats and strings, or even lists of lists of lists . . .\n",
    "\n",
    "The flexibility of Python lists comes at the expense of performance. Many science, engineering and mathematics problems involve very large problems with operations on numbers, and computational speed is important for large problems. To serve this need, we normally use specialised functions and data structures for numerical computation, and in particular for arrays of numbers. Some of the flexibility of lists is traded for performance."
   ]
  },
  {
   "cell_type": "markdown",
   "metadata": {},
   "source": [
    "## One-dimensional arrays\n",
    "\n",
    "A one-dimensional array is a collection of numbers which we can access by index (it preserves order)."
   ]
  },
  {
   "cell_type": "markdown",
   "metadata": {},
   "source": [
    "### Creating arrays and indexing \n",
    "\n",
    "To create a NumPy array of length 10 and initially filled with zeros:"
   ]
  },
  {
   "cell_type": "code",
   "execution_count": null,
   "metadata": {},
   "outputs": [],
   "source": [
    "x = np.zeros(10)\n",
    "\n",
    "print(x)\n",
    "print(type(x))"
   ]
  },
  {
   "cell_type": "markdown",
   "metadata": {},
   "source": [
    "The default type of a NumPy array is `float`. The type can be checked with"
   ]
  },
  {
   "cell_type": "code",
   "execution_count": null,
   "metadata": {},
   "outputs": [],
   "source": [
    "print(x.dtype)"
   ]
  },
  {
   "cell_type": "markdown",
   "metadata": {},
   "source": [
    "You cannot, for example, add a `string` to a `numpy.ndarray`. All entries in the array have the same type.\n",
    "\n",
    "We can check the length of an array using `len`, which gives the number of entries in the array:"
   ]
  },
  {
   "cell_type": "code",
   "execution_count": null,
   "metadata": {},
   "outputs": [],
   "source": [
    "print(len(x))"
   ]
  },
  {
   "cell_type": "markdown",
   "metadata": {},
   "source": [
    "A better way to check the length is to use `x.shape`, which returns a tuple with the dimensions of the array:"
   ]
  },
  {
   "cell_type": "code",
   "execution_count": null,
   "metadata": {},
   "outputs": [],
   "source": [
    "print(x.shape)"
   ]
  },
  {
   "cell_type": "markdown",
   "metadata": {},
   "source": [
    "`shape` tells us the size of the array in *each* direction. We will see two-dimensional arrays shortly (matrices), which have a size in each direction."
   ]
  },
  {
   "cell_type": "markdown",
   "metadata": {},
   "source": [
    "We can change the entries of an array using indexing,"
   ]
  },
  {
   "cell_type": "code",
   "execution_count": null,
   "metadata": {},
   "outputs": [],
   "source": [
    "print(x)\n",
    "\n",
    "x[0] = 10.0\n",
    "x[3] = -4.3\n",
    "x[9] = 1.0\n",
    "\n",
    "print(x)"
   ]
  },
  {
   "cell_type": "markdown",
   "metadata": {},
   "source": [
    "Remember that indexing starts from zero!\n",
    "\n",
    "There are other ways to create arrays, such as an array of 'ones':"
   ]
  },
  {
   "cell_type": "code",
   "execution_count": null,
   "metadata": {},
   "outputs": [],
   "source": [
    "y = np.ones(5)\n",
    "print(y)"
   ]
  },
  {
   "cell_type": "markdown",
   "metadata": {},
   "source": [
    "an array of random values:"
   ]
  },
  {
   "cell_type": "code",
   "execution_count": null,
   "metadata": {},
   "outputs": [],
   "source": [
    "y = np.random.rand(6)\n",
    "print(y)"
   ]
  },
  {
   "cell_type": "markdown",
   "metadata": {},
   "source": [
    "or a NumPy array from a Python list:"
   ]
  },
  {
   "cell_type": "code",
   "execution_count": null,
   "metadata": {},
   "outputs": [],
   "source": [
    "x = [4.0, 8.0, 9.0, 11.0, -2.0]\n",
    "y = np.array(x)\n",
    "print(y)\n",
    "print(type(x), type(y))"
   ]
  },
  {
   "cell_type": "markdown",
   "metadata": {},
   "source": [
    "Two more methods for creating arrays which we will use in later notebooks are:\n",
    "\n",
    "- `numpy.arange`; and \n",
    "- `numpy.linspace`. \n",
    "\n",
    "They are particularly useful for plotting functions.\n",
    "The function `arange` creates an array with equally spaced values. It is similar in some cases to `range`, which we have seen earlier. To create the array `[0 1 2 3 4 5]` using `arange`:"
   ]
  },
  {
   "cell_type": "code",
   "execution_count": null,
   "metadata": {},
   "outputs": [],
   "source": [
    "x = np.arange(6)\n",
    "print(x)\n",
    "print(type(x))"
   ]
  },
  {
   "cell_type": "markdown",
   "metadata": {},
   "source": [
    "Note that '6' is not included. We can change the start value, e.g.:"
   ]
  },
  {
   "cell_type": "code",
   "execution_count": null,
   "metadata": {},
   "outputs": [],
   "source": [
    "x = np.arange(2, 6)\n",
    "print(x)"
   ]
  },
  {
   "cell_type": "markdown",
   "metadata": {},
   "source": [
    "The function `linspace` creates an array with prescribed start and end values (both are included), and a prescribed number on values, all equally spaced:"
   ]
  },
  {
   "cell_type": "code",
   "execution_count": null,
   "metadata": {},
   "outputs": [],
   "source": [
    "x = np.linspace(0, 100, 7)\n",
    "print(x)"
   ]
  },
  {
   "cell_type": "markdown",
   "metadata": {},
   "source": [
    "The `linspace` function is used extensively for plotting, as we will see in the next notebook."
   ]
  },
  {
   "cell_type": "markdown",
   "metadata": {},
   "source": [
    "### Array arithmetic and functions\n",
    "\n",
    "NumPy arrays support common arithmetic operations, such as addition of two arrays"
   ]
  },
  {
   "cell_type": "code",
   "execution_count": null,
   "metadata": {},
   "outputs": [],
   "source": [
    "x = np.array([1.0, 0.2, 1.2])\n",
    "y = np.array([2.0, 0.1, 2.1])\n",
    "print(x)\n",
    "print(y)\n",
    "\n",
    "# Sum x and y\n",
    "z = x + y\n",
    "print(z)"
   ]
  },
  {
   "cell_type": "markdown",
   "metadata": {},
   "source": [
    "and multiplication of components by a scalar,"
   ]
  },
  {
   "cell_type": "code",
   "execution_count": null,
   "metadata": {},
   "outputs": [],
   "source": [
    "z = 10.0*x\n",
    "print(z)"
   ]
  },
  {
   "cell_type": "markdown",
   "metadata": {},
   "source": [
    "and raising components to a power:"
   ]
  },
  {
   "cell_type": "code",
   "execution_count": null,
   "metadata": {},
   "outputs": [],
   "source": [
    "x = np.array([2, 3, 4])\n",
    "print(x**2)"
   ]
  },
  {
   "cell_type": "markdown",
   "metadata": {},
   "source": [
    "We can also apply functions to the components of an array:"
   ]
  },
  {
   "cell_type": "code",
   "execution_count": null,
   "metadata": {},
   "outputs": [],
   "source": [
    "# Create an array [0, Ï/2, Ï, 3Ï/2]\n",
    "x = np.array([0.0, np.pi/2, np.pi, 3*np.pi/2])\n",
    "print(x)\n",
    "\n",
    "# Compute sine of each entry\n",
    "y = np.sin(x)\n",
    "print(y)"
   ]
  },
  {
   "cell_type": "markdown",
   "metadata": {},
   "source": [
    "The above has computed the sine of each entry in the array `x`.\n",
    "\n",
    "Note that the function `np.sin` is used, and not `math.sin` (which was used in previous notebooks). The reason is that `np.sin` is more general -  it can act on lists/arrays of values rather than on just one value. We will apply functions to arrays in the next notebook to plot functions."
   ]
  },
  {
   "cell_type": "markdown",
   "metadata": {},
   "source": [
    "We could have computed the sine of each array entry using `for` loops:"
   ]
  },
  {
   "cell_type": "code",
   "execution_count": null,
   "metadata": {},
   "outputs": [],
   "source": [
    "y = np.zeros(len(x))\n",
    "for i in range(len(x)):\n",
    "    y[i] = np.sin(x[i])\n",
    "\n",
    "print(y)"
   ]
  },
  {
   "cell_type": "markdown",
   "metadata": {},
   "source": [
    "but the program becomes longer and harder to read. Additionally, in many cases it will be much slower. \n",
    "You might see manipulation of arrays without indexing referred to as 'vectorisation'. When possible, vectorisation is a good thing to do. We compare the performance of indexing versus vectorisation below."
   ]
  },
  {
   "cell_type": "markdown",
   "metadata": {},
   "source": [
    "### Performance example: computing the norm of a long vector\n",
    "\n",
    "The norm of a vector $x$ is given by: \n",
    "\n",
    "$$\n",
    "\\| x \\| = \\sqrt{\\sum_{i=0}^{n-1} x_{i} x_{i}}\n",
    "$$\n",
    "\n",
    "where $x_{i}$ is the $i$th entry of $x$. It is the dot product of a vector with itself, \n",
    "followed by taking the square root.\n",
    "To compute the norm, we could loop/iterate over the entries of the vector and sum the square of each entry, and then take the square root of the result.\n",
    "\n",
    "We will evaluate the norm using two methods for computing the norm on an array of length 10 million to compare their performance. We first create a vector with 10 million random entries, using NumPy:"
   ]
  },
  {
   "cell_type": "code",
   "execution_count": null,
   "metadata": {},
   "outputs": [],
   "source": [
    "# Create a NumPy array with 10 million random values\n",
    "x = np.random.rand(10000000)\n",
    "print(type(x))"
   ]
  },
  {
   "cell_type": "markdown",
   "metadata": {},
   "source": [
    "We now time how long it takes to compute the norm of the vector using the NumPy function '`numpy.dot`'. We use the Jupyter 'magic command' [`%time`](Notebook%20tips.ipynb#Simple-timing) to time the operation: "
   ]
  },
  {
   "cell_type": "code",
   "execution_count": null,
   "metadata": {},
   "outputs": [],
   "source": [
    "%time norm = np.sqrt(np.dot(x, x))\n",
    "print(norm)"
   ]
  },
  {
   "cell_type": "markdown",
   "metadata": {},
   "source": [
    "The time output of interest is '`Wall time`'.\n",
    "\n",
    "We now perform the same operation with our own function for computing the norm:"
   ]
  },
  {
   "cell_type": "code",
   "execution_count": null,
   "metadata": {},
   "outputs": [],
   "source": [
    "def compute_norm(x):\n",
    "    norm = 0.0\n",
    "    for xi in x:\n",
    "        norm += xi*xi\n",
    "    return np.sqrt(norm)\n",
    "\n",
    "%time norm =compute_norm(x)\n",
    "print(norm)"
   ]
  },
  {
   "cell_type": "markdown",
   "metadata": {},
   "source": [
    "You should see that the two approaches give the same result, but the \n",
    "NumPy function is more than 100 times faster, and possibly more than 100,000 times faster!\n",
    "\n",
    "The message is that specialised functions and data structures for numerical computations can be many orders of magnitude faster than your own general implementations. On top of that, the specialised functions are much less \n",
    "likely to have bugs!"
   ]
  },
  {
   "cell_type": "markdown",
   "metadata": {},
   "source": [
    "## Two-dimensional arrays\n",
    "\n",
    "Two-dimensional arrays are very useful for arranging data in many engineering applications and for performing mathematical operations. Commonly, 2D arrays are used to represents matrices. To create the matrix\n",
    "\n",
    "$$\n",
    "A = \n",
    "\\begin{bmatrix} \n",
    "2.2 & 3.7 & 9.1\\\\ \n",
    "-4 & 3.1 & 1.3\n",
    "\\end{bmatrix} \n",
    "$$\n",
    "\n",
    "we use:"
   ]
  },
  {
   "cell_type": "code",
   "execution_count": null,
   "metadata": {},
   "outputs": [],
   "source": [
    "A = np.array([[2.2, 3.7, 9.1], [-4.0, 3.1, 1.3]])\n",
    "print(A)"
   ]
  },
  {
   "cell_type": "markdown",
   "metadata": {},
   "source": [
    "If we check the length of `A`:"
   ]
  },
  {
   "cell_type": "code",
   "execution_count": null,
   "metadata": {},
   "outputs": [],
   "source": [
    "print(len(A))"
   ]
  },
  {
   "cell_type": "markdown",
   "metadata": {},
   "source": [
    "it reports the number of rows. To get the shape of the array, we use:"
   ]
  },
  {
   "cell_type": "code",
   "execution_count": null,
   "metadata": {},
   "outputs": [],
   "source": [
    "print(A.shape)"
   ]
  },
  {
   "cell_type": "markdown",
   "metadata": {},
   "source": [
    "which reports 2 rows and 3 columns (stored using a tuple). To get the number of rows and the number of columns,"
   ]
  },
  {
   "cell_type": "code",
   "execution_count": null,
   "metadata": {},
   "outputs": [],
   "source": [
    "num_rows = A.shape[0]\n",
    "num_cols = A.shape[1]\n",
    "print(\"Number of rows is {}, number of columns is {}.\".format(num_rows, num_cols))"
   ]
  },
  {
   "cell_type": "markdown",
   "metadata": {},
   "source": [
    "We can 'index' into a 2D array using two indices, the first for the row index and the second for the column index:"
   ]
  },
  {
   "cell_type": "code",
   "execution_count": null,
   "metadata": {},
   "outputs": [],
   "source": [
    "A02 = A[0, 2]\n",
    "print(A02)"
   ]
  },
  {
   "cell_type": "markdown",
   "metadata": {},
   "source": [
    "With `A[1]`, we will get the second row:"
   ]
  },
  {
   "cell_type": "code",
   "execution_count": null,
   "metadata": {},
   "outputs": [],
   "source": [
    "print(A[1])"
   ]
  },
  {
   "cell_type": "markdown",
   "metadata": {},
   "source": [
    "We can iterate over the entries of `A` by iterating over the rows, and then the entry in each row:"
   ]
  },
  {
   "cell_type": "code",
   "execution_count": null,
   "metadata": {},
   "outputs": [],
   "source": [
    "for row in A:\n",
    "    print(\"-----\")\n",
    "    for c in row:\n",
    "        print(c)"
   ]
  },
  {
   "cell_type": "markdown",
   "metadata": {},
   "source": [
    "> **Warning:** NumPy has a `numpy.matrix` data structure. Its use is not recommended as it behaves inconsistently in some cases."
   ]
  },
  {
   "cell_type": "markdown",
   "metadata": {},
   "source": [
    "### 2D array (matrix) operations\n",
    "\n",
    "For those who have seen matrices previously, the operations in this section will be familiar. For those who have not encountered matrices you might want to revisit this section once matrices have been covered in the mathematics lectures."
   ]
  },
  {
   "cell_type": "markdown",
   "metadata": {},
   "source": [
    "#### Matrix-vector and matrix-matrix multiplication\n",
    "\n",
    "We will consider the matrix $A$:\n",
    "\n",
    "$$\n",
    "A  = \n",
    "\\begin{bmatrix}\n",
    "3.4 & 2.6 \\\\\n",
    "2.1 & 4.5\n",
    "\\end{bmatrix}\n",
    "$$\n",
    "\n",
    "and the vector $x$:\n",
    "\n",
    "$$\n",
    "x  = \n",
    "\\begin{bmatrix}\n",
    "0.2 \\\\ -1.1\n",
    "\\end{bmatrix}\n",
    "$$"
   ]
  },
  {
   "cell_type": "code",
   "execution_count": null,
   "metadata": {},
   "outputs": [],
   "source": [
    "A = np.array([[3.4, 2.6], [2.1, 4.5]])\n",
    "print(\"Matrix A:\\n {}\".format(A))\n",
    "\n",
    "x = np.array([0.2, -1.1])\n",
    "print(\"Vector x:\\n {}\".format(x))"
   ]
  },
  {
   "cell_type": "markdown",
   "metadata": {},
   "source": [
    "We can compute the matrix-vector product $y = Ax$ by:"
   ]
  },
  {
   "cell_type": "code",
   "execution_count": null,
   "metadata": {},
   "outputs": [],
   "source": [
    "y = A.dot(x)\n",
    "print(y)"
   ]
  },
  {
   "cell_type": "markdown",
   "metadata": {},
   "source": [
    "Matrix-matrix multiplication is performed similarly. Computing $C = AB$, where $A$, $B$, and $C$ are all matrices:"
   ]
  },
  {
   "cell_type": "code",
   "execution_count": null,
   "metadata": {},
   "outputs": [],
   "source": [
    "B = np.array([[1.3, 0], [0, 2.0]])\n",
    "\n",
    "C = A.dot(B)\n",
    "print(C)"
   ]
  },
  {
   "cell_type": "markdown",
   "metadata": {},
   "source": [
    "The inverse of a matrix ($A^{-1}$) and the determinant ($\\det(A)$) can be computed using functions in the NumPy submodule `linalg`:"
   ]
  },
  {
   "cell_type": "code",
   "execution_count": null,
   "metadata": {},
   "outputs": [],
   "source": [
    "Ainv = np.linalg.inv(A)\n",
    "print(\"Inverse of A:\\n {}\".format(Ainv))\n",
    "\n",
    "Adet = np.linalg.det(A)\n",
    "print(\"Determinant of A: {}\".format(Adet))"
   ]
  },
  {
   "cell_type": "markdown",
   "metadata": {},
   "source": [
    "> NumPy is large library, so it uses sub-modules to arrange functionality.\n",
    "\n",
    "A very common matrix is the *identity matrix* $I$. We can create a $4 \\times 4$ identity matrix using:"
   ]
  },
  {
   "cell_type": "code",
   "execution_count": null,
   "metadata": {},
   "outputs": [],
   "source": [
    "I = np.eye(4)\n",
    "print(I)"
   ]
  },
  {
   "cell_type": "markdown",
   "metadata": {},
   "source": [
    "# Array slicing\n",
    "\n",
    "When working with arrays, it is often useful to extract subsets of an array. We might want just the first 3 entries of a long array, or we might want the second column of a 2D array (matrix). These operations are known as *array slicing* (https://en.wikipedia.org/wiki/Array_slicing).\n",
    "\n",
    "We will explore slicing through examples. We start by creating an array filled with random values:"
   ]
  },
  {
   "cell_type": "code",
   "execution_count": null,
   "metadata": {},
   "outputs": [],
   "source": [
    "x = np.random.rand(5)\n",
    "print(x)"
   ]
  },
  {
   "cell_type": "markdown",
   "metadata": {},
   "source": [
    "Below are some slicing operations:"
   ]
  },
  {
   "cell_type": "code",
   "execution_count": null,
   "metadata": {},
   "outputs": [],
   "source": [
    "# Using ':' implies the whole range of indices, i.e. from 0 -> (length-1)\n",
    "y = x[:]\n",
    "print(\"Slice using '[:]' {}\".format(y))\n",
    "\n",
    "# Using '1:3' implies indices 1 -> 3 (not including 3)\n",
    "y = x[1:3]\n",
    "print(\"Slice using '[1:3]': {}\".format(y))\n",
    "\n",
    "# Using '2:-1' implies indices 2 -> second-from-last\n",
    "y = x[2:-1]\n",
    "print(\"Slice using '[2:-1]': {}\".format(y))"
   ]
  },
  {
   "cell_type": "markdown",
   "metadata": {},
   "source": [
    "Note that the index `-1` corresponds to the last entry in the array, `-2` the second last entry, etc.\n",
    "\n",
    "If we want a slice to run from the start of an array, or to the end of an array, we do: "
   ]
  },
  {
   "cell_type": "code",
   "execution_count": null,
   "metadata": {},
   "outputs": [],
   "source": [
    "# Using ':3' implies start -> 3 (not including 3)\n",
    "y = x[:3]\n",
    "print(\"Slice using '[:3]': {}\".format(y))\n",
    "\n",
    "# Using '4:' implies 4 -> end\n",
    "y = x[4:]\n",
    "print(\"Slice using '[4:]': {}\".format(y))\n",
    "\n",
    "# Using ':' implies start -> end\n",
    "y = x[:]\n",
    "print(\"Slice using '[:]': {}\".format(y))"
   ]
  },
  {
   "cell_type": "markdown",
   "metadata": {},
   "source": [
    "Slicing can be applied to 2D arrays:"
   ]
  },
  {
   "cell_type": "code",
   "execution_count": null,
   "metadata": {},
   "outputs": [],
   "source": [
    "B = np.array([[1.3, 0], [0, 2.0]])\n",
    "print(B)\n",
    "\n",
    "# Extract second row\n",
    "r = B[1, :]\n",
    "print(r)"
   ]
  },
  {
   "cell_type": "markdown",
   "metadata": {},
   "source": [
    "There is more to array slicing syntax, for example it is possible to extract every 3rd entry. If you need to extract a sub-array, check first if you can do it using the compact array slicing syntax."
   ]
  },
  {
   "cell_type": "markdown",
   "metadata": {},
   "source": [
    "# Exercises"
   ]
  },
  {
   "cell_type": "markdown",
   "metadata": {},
   "source": [
    "## Exercise 07.1 (indexing and timing)\n",
    "\n",
    "Create two very long NumPy arrays `x` and `y` and sum the arrays using:\n",
    "\n",
    "1. The NumPy addition syntax, `z = x + y`; and\n",
    "2. A `for` loop that computes the sum entry-by-entry\n",
    "\n",
    "Compare the time required for the two approaches for vectors of different lengths. The values of the array entries are not important for this test.\n",
    "\n",
    "*Hint:* To loop over an array using indices, try a construction like:\n",
    "```python\n",
    "x = np.ones(100)\n",
    "y = np.ones(len(x))\n",
    "for i in range(len(x)):\n",
    "    print(x[i]*y[i])\n",
    "```"
   ]
  },
  {
   "cell_type": "code",
   "execution_count": null,
   "metadata": {},
   "outputs": [],
   "source": [
    "%time x = np.random.rand(10000000)\n",
    "print(type(x))\n",
    "%time y = np.random.rand(10000000)\n",
    "print(type(y))\n",
    "%time z = x + y\n",
    "def by_looping():\n",
    "    for i in range(len(x)):\n",
    "        z[i] = x[i] = y[i]\n",
    "%time by_looping()"
   ]
  },
  {
   "cell_type": "markdown",
   "metadata": {},
   "source": [
    "## Exercise 07.2 (member functions and slicing)\n",
    "\n",
    "Anonymised scores (out of 60) for an examination are stored in a NumPy array. Write:\n",
    "\n",
    "1. A function that takes a NumPy array of the raw scores and returns the scores as a percentage sorted from \n",
    "   lowest to highest (try using `scores.sort()`, where `scores` is a NumPy array holding the scores).\n",
    "1. A function that returns the maximum, minimum and mean of the raw scores as a dictionary with the \n",
    "   keys '`min`', '`max`' and '`mean`'. Use the NumPy array functions `min()`, `max()` and `mean()` to do the \n",
    "   computation, e.g. `max = scores.max()`.\n",
    "1. Modify your function for the min, max and mean to optionally exclude the highest and lowest scores from the \n",
    "   computation of the min, max and mean. *Hint:* sort the array of scores and use array slicing to exclude\n",
    "   the first and the last entries.\n",
    "\n",
    "Use the scores \n",
    "```python\n",
    "scores = np.array([58.0, 35.0, 24.0, 42, 7.8])\n",
    "```\n",
    "to test your functions."
   ]
  },
  {
   "cell_type": "code",
   "execution_count": null,
   "metadata": {},
   "outputs": [],
   "source": [
    "srtd = np.sort(scores)\n",
    "print(srtd)"
   ]
  },
  {
   "cell_type": "code",
   "execution_count": null,
   "metadata": {},
   "outputs": [],
   "source": [
    "scores = np.array([58.0, 35.0, 24.0, 42, 7.8])\n",
    "def scores_sorted(scores):\n",
    "    scores.sort()\n",
    "    scores = scores / 60 * 100\n",
    "    return scores\n",
    "print(\"Sorted Percents: \", scores_sorted(scores))\n",
    "\n",
    "def statistics(scores, exclude=False):\n",
    "    scores.sort()\n",
    "    stats = {}\n",
    "    print(exclude == False)\n",
    "    if exclude == False:\n",
    "        stats[\"min\"] = scores.min()\n",
    "        stats[\"max\"] = scores.max()\n",
    "        stats[\"mean\"] = scores.mean()\n",
    "        return stats\n",
    "    else:\n",
    "        stats[\"min\"] = scores[1:-1].min() # -1 is the index of last element, so in a slice, this excludes last\n",
    "        stats[\"max\"] = scores[1:-1].max()\n",
    "        stats[\"mean\"] = scores[1:-1].mean()\n",
    "        return stats\n",
    "print(\"Regular: \", statistics(scores, exclude=False))\n",
    "print(\"Exclude low/high: \", statistics(scores, exclude=True))\n"
   ]
  },
  {
   "cell_type": "markdown",
   "metadata": {},
   "source": [
    "## Exercise 07.3 (slicing)\n",
    "\n",
    "For the two-dimensional array"
   ]
  },
  {
   "cell_type": "code",
   "execution_count": null,
   "metadata": {},
   "outputs": [],
   "source": [
    "A = np.array([[4.0, 7.0, -2.43, 67.1],\n",
    "             [-4.0, 64.0, 54.7, -3.33],\n",
    "             [2.43, 23.2, 3.64, 4.11],\n",
    "             [1.2, 2.5, -113.2, 323.22]])\n",
    "print(A)"
   ]
  },
  {
   "cell_type": "markdown",
   "metadata": {},
   "source": [
    "use array slicing to\n",
    "\n",
    "1. Extract the third column as a 1D array\n",
    "2. Extract the first two rows as a 2D sub-array\n",
    "3. Extract the bottom-right $2 \\times 2$ block as a 2D sub-array\n",
    "4. Sum the last column\n",
    "\n",
    "Print the results to the screen to check. Try to use array slicing such that your code would still work if the dimensions of `A` were enlarged.\n",
    "\n",
    "Also, compute the tranpose of `A` (search online to find the function/syntax to do this)."
   ]
  },
  {
   "cell_type": "code",
   "execution_count": null,
   "metadata": {},
   "outputs": [],
   "source": [
    "print(\"1: \",A[:,2])\n",
    "print(\"2: \",A[0:2,:])\n",
    "print(\"3: \",A[2:,2:])\n",
    "print(\"4: \",A[:,-1].sum())\n",
    "print(\"5: \", A.T)"
   ]
  },
  {
   "cell_type": "markdown",
   "metadata": {},
   "source": [
    "## Exercise 07.4 (optional extension)\n",
    "\n",
    "In a previous exercise you implemented the bisection algorithm to find approximate roots of a mathematical function. Use the SciPy bisection function `optimize.bisect` (http://docs.scipy.org/doc/scipy-0.14.0/reference/generated/scipy.optimize.bisect.html) to find roots of the mathematical function that was used in the previous exercise. Compare the results computed by SciPy and your program from the earlier exercise, and compare the computational time (using `%time`)."
   ]
  },
  {
   "cell_type": "code",
   "execution_count": null,
   "metadata": {
    "collapsed": true
   },
   "outputs": [],
   "source": [
    "\n"
   ]
  },
  {
   "cell_type": "code",
   "execution_count": 12,
   "metadata": {},
   "outputs": [
    {
     "name": "stdout",
     "output_type": "stream",
     "text": [
      "CPU times: user 0 ns, sys: 0 ns, total: 0 ns\n",
      "Wall time: 61 µs\n"
     ]
    },
    {
     "data": {
      "text/plain": [
       "(4.5340701967222685,       converged: True\n",
       "            flag: 'converged'\n",
       "  function_calls: 44\n",
       "      iterations: 42\n",
       "            root: 4.5340701967222685)"
      ]
     },
     "execution_count": 12,
     "metadata": {},
     "output_type": "execute_result"
    }
   ],
   "source": [
    "from scipy import optimize\n",
    "x = 0.0\n",
    "def f(x):\n",
    "    f = x**3 - 6*(x**2) + 4*x + 12\n",
    "    return f\n",
    "a = 3\n",
    "b = 6\n",
    "xtol = 1.0e-12\n",
    "maxiter = 1000\n",
    "%time optimize.bisect(f, a, b, xtol=1e-12, maxiter=100, full_output=True)"
   ]
  },
  {
   "cell_type": "code",
   "execution_count": null,
   "metadata": {
    "collapsed": true
   },
   "outputs": [],
   "source": []
  }
 ],
 "metadata": {
  "anaconda-cloud": {},
  "kernelspec": {
   "display_name": "Python 3",
   "language": "python",
   "name": "python3"
  },
  "language_info": {
   "codemirror_mode": {
    "name": "ipython",
    "version": 3
   },
   "file_extension": ".py",
   "mimetype": "text/x-python",
   "name": "python",
   "nbconvert_exporter": "python",
   "pygments_lexer": "ipython3",
   "version": "3.6.3"
  }
 },
 "nbformat": 4,
 "nbformat_minor": 1
}
