{
 "cells": [
  {
   "cell_type": "markdown",
   "metadata": {},
   "source": [
    "# Introduction\n",
    "\n",
    "Plotting is one of the most important tasks that engineers and scientists use computers for. \n",
    "Plots are used to:\n",
    "\n",
    "- present and understand data; and\n",
    "- to check computed results visually.\n",
    "\n",
    "The most widely used Python module for plotting is Matplotlib (<http://matplotlib.org/>), and this is what we will use. Matplotlib is extremely powerful and we will use only a small fraction of its functionality.\n",
    "The material in this notebook will provide you with a basis that you can build \n",
    "upon for more advanced plotting by searching online resources. A good place to start for \n",
    "a wide range of examples is the Matplotlib Gallery (http://matplotlib.org/gallery.html).\n",
    "\n",
    "We will use the tools presented in this notebook to visualise results in subsequent notebooks.\n",
    "\n",
    "> This is a longer activity - this a reflection of the importance of plotting. The next activity\n",
    "> is shorter in compensation.\n",
    "\n",
    "> Some exercises in this notebook are challenging. Use the Moodle forum to get help.\n",
    "\n",
    "\n",
    "\n",
    "## Why do we plot programmatically?\n",
    "\n",
    "Producing plots via a program is very powerful. It allows you to explore and manipulate \n",
    "data in sophisticated ways. It also allows you to make plotting interactive; \n",
    "from a large and complex data\n",
    "set you can design interfaces for you and others to query the data and have it displayed graphically, \n",
    "possibly over the Internet.\n",
    "It also allows you to automated the fetching and processing of  data from online sources or \n",
    "from laboratory equipment.\n",
    "\n",
    "\n",
    "## Objectives\n",
    "\n",
    "- Introduction to a programmatic approach to plotting \n",
    "- Create line plots and bar charts from discrete data sets\n",
    "- Create line plots of mathematical functions\n",
    "- Create histograms for distribution-like data \n",
    "- Develop interactive plots\n",
    "- Create contour plots of functions of two variables\n",
    "\n",
    "> This notebook uses interactive widgets - you will need to execute the notebook to see the widgets."
   ]
  },
  {
   "cell_type": "markdown",
   "metadata": {},
   "source": [
    "## Installing modules\n",
    "\n",
    "In this notebook we will use the module `quandl` to fetch financial data from the Internet for plotting. \n",
    "Quandl is not  available by default in Python environments, so we need to install it. \n",
    "The usual way to install a module is:\n",
    "```\n",
    "!pip install module-name\n",
    "```\n",
    "If you are using the Anaconda Python environment, an alternative is: \n",
    "```\n",
    "!conda install -yc conda-forge module-name\n",
    "```\n",
    "\n",
    "Below we install the `quandl` package. You can skip over the details, and it should just work. The code is a little complex because it is designed work for a range of different Python environments. If you get an error message in the following code blocks, send a message with the error to the Moodle forum.\n",
    "\n",
    "To install the `quandl` package:"
   ]
  },
  {
   "cell_type": "code",
   "execution_count": 1,
   "metadata": {},
   "outputs": [
    {
     "name": "stdout",
     "output_type": "stream",
     "text": [
      "Fetching package metadata .............\n",
      "Solving package specifications: .\n",
      "\n",
      "Package plan for installation in environment /home/mlittle777/anaconda3:\n",
      "\n",
      "The following NEW packages will be INSTALLED:\n",
      "\n",
      "    inflection:     0.3.1-py36_0                     \n",
      "    more-itertools: 3.2.0-py36_0          conda-forge\n",
      "    quandl:         3.2.0-py36h3624063_0             \n",
      "\n",
      "The following packages will be UPDATED:\n",
      "\n",
      "    anaconda:       5.0.1-py36hd30a520_1              --> custom-py36hbbc8b67_0            \n",
      "\n",
      "The following packages will be SUPERSEDED by a higher-priority channel:\n",
      "\n",
      "    conda:          4.3.30-py36h5d9f9f4_0             --> 4.3.29-py36_0         conda-forge\n",
      "    conda-env:      2.6.0-h36134e3_1                  --> 2.6.0-0               conda-forge\n",
      "    requests:       2.18.4-py36he2e5f8d_1             --> 2.13.0-py36_0         conda-forge\n",
      "\n",
      "conda-env-2.6. 100% |################################| Time: 0:00:00 650.54 kB/s\n",
      "anaconda-custo 100% |################################| Time: 0:00:00   1.58 MB/s\n",
      "inflection-0.3 100% |################################| Time: 0:00:00   2.24 MB/s\n",
      "requests-2.13. 100% |################################| Time: 0:00:00   4.72 MB/s\n",
      "more-itertools 100% |################################| Time: 0:00:00   7.09 MB/s\n",
      "quandl-3.2.0-p 100% |################################| Time: 0:00:00   2.69 MB/s\n",
      "conda-4.3.29-p 100% |################################| Time: 0:00:00  12.52 MB/s\n"
     ]
    }
   ],
   "source": [
    "import sys\n",
    "if 'conda' in sys.version:  # Install using conda if we're using Anaconda Python\n",
    "    !conda install -yc conda-forge quandl\n",
    "else:  # Install using pip on others systems\n",
    "    try:\n",
    "        !{sys.executable} -m pip -q install quandl  # Try to install globally\n",
    "        import quandl\n",
    "    except ImportError:\n",
    "        !{sys.executable} -m pip -q install --user quandl  # Install in user space"
   ]
  },
  {
   "cell_type": "markdown",
   "metadata": {},
   "source": [
    "We will be using the `ipywidgets` module for interactive plots. It has already been configured for you on\n",
    "https://notebooks.azure.com/, so the below is necessary only if using other environments."
   ]
  },
  {
   "cell_type": "code",
   "execution_count": 3,
   "metadata": {},
   "outputs": [],
   "source": [
    "try:\n",
    "    import ipywidgets\n",
    "except ImportError:\n",
    "    try:\n",
    "        !{sys.executable} -m pip -q install ipywidgets\n",
    "        import ipywidgets\n",
    "    except ImportError:\n",
    "        !{sys.executable} -m pip -q --user install ipywidgets\n",
    "    finally:\n",
    "        !jupyter nbextension enable --py widgetsnbextension\n",
    "        print(\"You will need to refresh your browser page\")"
   ]
  },
  {
   "cell_type": "markdown",
   "metadata": {
    "collapsed": true
   },
   "source": [
    "# Matplotlib\n",
    "\n",
    "To use Matplotlib, we need to import it. We will be using the `pyplot` interface to Matplotlib, so we need to import `pyplot` too:"
   ]
  },
  {
   "cell_type": "code",
   "execution_count": 4,
   "metadata": {},
   "outputs": [],
   "source": [
    "import matplotlib\n",
    "import matplotlib.pyplot as plt"
   ]
  },
  {
   "cell_type": "markdown",
   "metadata": {},
   "source": [
    "We will be using NumPy when producing plots, so we import it now:"
   ]
  },
  {
   "cell_type": "code",
   "execution_count": 5,
   "metadata": {
    "collapsed": true
   },
   "outputs": [],
   "source": [
    "import numpy as np"
   ]
  },
  {
   "cell_type": "markdown",
   "metadata": {},
   "source": [
    "Matplotlib is a regular Python library that can be used outside of Jupyter notebooks to display plots to the screen or to write plots to a file. To have plots appear inline in a Jupyter notebook, we need the 'magic' command\n",
    "[`%matplotlib inline`](Notebook%20tips.ipynb#Matplotlib):"
   ]
  },
  {
   "cell_type": "code",
   "execution_count": 6,
   "metadata": {
    "collapsed": true
   },
   "outputs": [],
   "source": [
    "%matplotlib inline"
   ]
  },
  {
   "cell_type": "markdown",
   "metadata": {},
   "source": [
    "If you want the increase the default font size, use:\n",
    "```python\n",
    "matplotlib.rcParams.update({'font.size': 16})\n",
    "```"
   ]
  },
  {
   "cell_type": "markdown",
   "metadata": {},
   "source": [
    "# Simple line plots\n",
    "\n",
    "Given the data set\n",
    "\n",
    "$x$ value  | $f$ value\n",
    "----------:|----------:\n",
    "-1         | -1\n",
    "3          | -2\n",
    "4          | 7\n",
    "8          | 13\n",
    "10         | 1\n",
    "\n",
    "we want to create a line plot of $x$-values (horizontal axis) against the $f$ values (vertical axis).\n",
    "\n",
    "We first create a list of `x` values and a list of `f` values:"
   ]
  },
  {
   "cell_type": "code",
   "execution_count": 7,
   "metadata": {
    "collapsed": true
   },
   "outputs": [],
   "source": [
    "x = [-1, 3, 4, 8 , 10]\n",
    "f = [-1, -2, 7, 13 , 1]"
   ]
  },
  {
   "cell_type": "markdown",
   "metadata": {},
   "source": [
    "We now use the `plt.plot` function to produce a line plot:"
   ]
  },
  {
   "cell_type": "code",
   "execution_count": 15,
   "metadata": {},
   "outputs": [
    {
     "data": {
      "text/plain": [
       "(-1.55, 10.550000000000001, -2.75, 13.75)"
      ]
     },
     "execution_count": 15,
     "metadata": {},
     "output_type": "execute_result"
    },
    {
     "data": {
      "image/png": "[encoded data removed]",
      "text/plain": [
       "<matplotlib.figure.Figure at 0x7f359a4905c0>"
      ]
     },
     "metadata": {},
     "output_type": "display_data"
    }
   ],
   "source": [
    "plt.plot(x, f);\n",
    "plt.axis()"
   ]
  },
  {
   "cell_type": "code",
   "execution_count": 18,
   "metadata": {},
   "outputs": [
    {
     "data": {
      "text/plain": [
       "Text(0,0.5,'some numbers')"
      ]
     },
     "execution_count": 18,
     "metadata": {},
     "output_type": "execute_result"
    },
    {
     "data": {
      "image/png": "[encoded data removed]",
      "text/plain": [
       "<matplotlib.figure.Figure at 0x7f359a3857f0>"
      ]
     },
     "metadata": {},
     "output_type": "display_data"
    }
   ],
   "source": [
    "import matplotlib.pyplot as plt\n",
    "plt.plot([1,2,3,4])\n",
    "plt.ylabel('some numbers')"
   ]
  },
  {
   "cell_type": "markdown",
   "metadata": {},
   "source": [
    "Note that `x` and `f` are lists, but they could be any ordered array-like structure, e.g. tuple or NumPy array. \n",
    "\n",
    "We can improve the plot by adding axis labels, a title and dots to indicate data points."
   ]
  },
  {
   "cell_type": "code",
   "execution_count": 10,
   "metadata": {},
   "outputs": [
    {
     "data": {
      "image/png": "[encoded data removed]",
      "text/plain": [
       "<matplotlib.figure.Figure at 0x7f35a803c780>"
      ]
     },
     "metadata": {},
     "output_type": "display_data"
    }
   ],
   "source": [
    "# Plot data with a line and dots at the data points (this is what '-o' does)\n",
    "plt.plot(x, f, '-o')  \n",
    "\n",
    "# Attach labels and title (using LaTeX syntax)\n",
    "plt.xlabel('$x$')\n",
    "plt.ylabel('$f$')\n",
    "plt.title(\"Simple plot of $x$ vs $f$\");"
   ]
  },
  {
   "cell_type": "markdown",
   "metadata": {},
   "source": [
    "To change the colour of the line to red and use crosses at the data points, and to save the\n",
    "plot to the file `my-plot.png`, we can do the following:"
   ]
  },
  {
   "cell_type": "code",
   "execution_count": 12,
   "metadata": {},
   "outputs": [
    {
     "data": {
      "image/png": "[encoded data removed]",
      "text/plain": [
       "<matplotlib.figure.Figure at 0x7f35a80492b0>"
      ]
     },
     "metadata": {},
     "output_type": "display_data"
    }
   ],
   "source": [
    "# Plot data with a red solid line and crosses at the data points (this is what '-xr' does)\n",
    "plt.plot(x, f, '-xr')\n",
    "\n",
    "# Attach labels and title\n",
    "# plt.xlabel('$x$')\n",
    "plt.xlabel('x')\n",
    "plt.ylabel('$f$')\n",
    "plt.title(\"Simple plot of $f$ against $x$\")\n",
    "\n",
    "# Save plot to file\n",
    "plt.savefig(\"my-plot.png\");"
   ]
  },
  {
   "cell_type": "markdown",
   "metadata": {},
   "source": [
    "Upon executing the notebook, the file `my-plot.png` should appear in the same directory as the notebook.\n",
    "You could use the file to include the plot in a document or presentation."
   ]
  },
  {
   "cell_type": "markdown",
   "metadata": {},
   "source": [
    "# Plotting mathematical functions of one variable\n",
    "\n",
    "Line plots of a mathematical function are created by evaluating the function at a large number of points. If we use enough points, the graph of a function will appear smooth.\n",
    "\n",
    "To plot the function:\n",
    "\n",
    "$$\n",
    "f(x) = \\sin(x)\n",
    "$$\n",
    "\n",
    "the first step is to create an array of values at which we want to evaluate the function. We can use the NumPy function `linspace` to do this: "
   ]
  },
  {
   "cell_type": "code",
   "execution_count": null,
   "metadata": {},
   "outputs": [],
   "source": [
    "num_points = 100\n",
    "x = np.linspace(0, 4*np.pi, num=num_points)"
   ]
  },
  {
   "cell_type": "markdown",
   "metadata": {},
   "source": [
    "The above creates a NumPy array with `num_points` equally spaced values between $0$ and \n",
    "$4 \\pi$, including the end points. We can check this for a smaller example: "
   ]
  },
  {
   "cell_type": "code",
   "execution_count": null,
   "metadata": {},
   "outputs": [],
   "source": [
    "print(np.linspace(0, 2, num=10))"
   ]
  },
  {
   "cell_type": "markdown",
   "metadata": {},
   "source": [
    "To evaluate $\\sin(x)$ for each value in the array `x`, we use the NumPy `sin` function, which can be applied entry-wise to `x`:"
   ]
  },
  {
   "cell_type": "code",
   "execution_count": null,
   "metadata": {
    "collapsed": true
   },
   "outputs": [],
   "source": [
    "f = np.sin(x)"
   ]
  },
  {
   "cell_type": "markdown",
   "metadata": {},
   "source": [
    "We can now plot `f` against `x`."
   ]
  },
  {
   "cell_type": "code",
   "execution_count": null,
   "metadata": {},
   "outputs": [],
   "source": [
    "plt.plot(x, f)\n",
    "plt.xlabel('$x$')\n",
    "plt.ylabel('$\\sin(x)$');"
   ]
  },
  {
   "cell_type": "markdown",
   "metadata": {},
   "source": [
    "We can improve the appearance of the plot by specifying the $x$ limits:"
   ]
  },
  {
   "cell_type": "code",
   "execution_count": null,
   "metadata": {
    "scrolled": true
   },
   "outputs": [],
   "source": [
    "# Plot the graph\n",
    "plt.plot(x, f)\n",
    "\n",
    "# Label the axis\n",
    "plt.xlabel('$x$')\n",
    "plt.ylabel('$\\sin(x)$')\n",
    "\n",
    "# Use the start and end values in x as x limits (recall that x[-1] \n",
    "# returns the last value in x)\n",
    "plt.xlim(x[0], x[-1]);"
   ]
  },
  {
   "cell_type": "markdown",
   "metadata": {},
   "source": [
    "To plot two functions on one graph, we use `plt.plot` twice:"
   ]
  },
  {
   "cell_type": "code",
   "execution_count": null,
   "metadata": {},
   "outputs": [],
   "source": [
    "x = np.linspace(0, 4*np.pi, num=100)\n",
    "\n",
    "# Plot sin(x) and cos(x), and add label for each\n",
    "plt.plot(x, np.sin(x), label=\"$\\sin(x)$\")\n",
    "plt.plot(x, np.cos(x), label=\"$\\cos(x)$\")\n",
    "\n",
    "# Label the x-axis\n",
    "plt.xlabel('$x$')\n",
    "\n",
    "# Add legend\n",
    "plt.legend()\n",
    "\n",
    "# Use the start and end values in x as x limits\n",
    "plt.xlim(x[0], x[-1]);"
   ]
  },
  {
   "cell_type": "markdown",
   "metadata": {},
   "source": [
    "# Bar charts and histograms"
   ]
  },
  {
   "cell_type": "markdown",
   "metadata": {},
   "source": [
    "## Bar charts\n",
    "\n",
    "The numbers of students in each year of the Engineering Tripos, and graduate students are:"
   ]
  },
  {
   "cell_type": "code",
   "execution_count": null,
   "metadata": {
    "collapsed": true
   },
   "outputs": [],
   "source": [
    "cohort = ('IA', 'IB', 'IIA', 'IIB', 'Graduate')\n",
    "num_students = (332, 270, 256, 238, 451)"
   ]
  },
  {
   "cell_type": "markdown",
   "metadata": {},
   "source": [
    "We want to represent these figures using a bar chart:"
   ]
  },
  {
   "cell_type": "code",
   "execution_count": null,
   "metadata": {},
   "outputs": [],
   "source": [
    "# Create an array with the position of each bar along the x-axis, e.g [0, 1, 2, 3, 4] \n",
    "x_pos = np.arange(len(cohort))\n",
    "\n",
    "# Produce bar plot\n",
    "plt.bar(x_pos, num_students, align='center');\n",
    "\n",
    "# Replace the x ticks with the Tripos name, and rotate labels 30 degrees\n",
    "plt.xticks(x_pos, cohort, rotation=30)\n",
    "\n",
    "# Add axis labels \n",
    "plt.xlabel('cohort')\n",
    "plt.ylabel('number of students');"
   ]
  },
  {
   "cell_type": "markdown",
   "metadata": {},
   "source": [
    "## Histograms\n",
    "\n",
    "To create a histogram we first need a data set. We will use 4000 random values drawn from a normal (Gaussian) distribution with zero mean and standard deviation of one. We can use NumPy to create such an array using:"
   ]
  },
  {
   "cell_type": "code",
   "execution_count": null,
   "metadata": {},
   "outputs": [],
   "source": [
    "# loc=mean, scale=stddev, size=num samples\n",
    "x = np.random.normal(loc=0.0, scale=1.0, size=5000)  "
   ]
  },
  {
   "cell_type": "markdown",
   "metadata": {},
   "source": [
    "We can visualise the distribution of the values using a histogram.\n",
    "A histogram works by collecting data into intervals (bins) along the horizontal axis. \n",
    "The number of values that fall within a 'bin' is then displayed on the vertical axis.\n",
    "Using 20 bins, we can visualise how `x` is distributed:"
   ]
  },
  {
   "cell_type": "code",
   "execution_count": null,
   "metadata": {},
   "outputs": [],
   "source": [
    "# Produce histogram with 20 bins (try changing the number of bins)\n",
    "n, bins, patches = plt.hist(x, 20, facecolor='green');\n",
    "\n",
    "# Add label\n",
    "plt.xlabel('value')\n",
    "plt.ylabel('frequency');"
   ]
  },
  {
   "cell_type": "markdown",
   "metadata": {},
   "source": [
    "Matplotlib has automatically created 20 bins of equal width, and computed the number of entries in each bin. We can inspect the bin intervals"
   ]
  },
  {
   "cell_type": "code",
   "execution_count": null,
   "metadata": {},
   "outputs": [],
   "source": [
    "print(bins)"
   ]
  },
  {
   "cell_type": "markdown",
   "metadata": {},
   "source": [
    "And the number of values in each bin:"
   ]
  },
  {
   "cell_type": "code",
   "execution_count": null,
   "metadata": {},
   "outputs": [],
   "source": [
    "print(n)"
   ]
  },
  {
   "cell_type": "markdown",
   "metadata": {},
   "source": [
    "We can mix plot types on a single graph - in the case of a histogram it can be useful to compare against\n",
    "a probability density function. Since we drew the values in `x` from a normal distribution, we expect a normal probability distribution function to be a good fit. Let's test.\n",
    "\n",
    "We can use the module `scipy.stats` to compute the normal probability distribution function. To compare the histogram to a probability density function, the histogram needs to be 'normalised' \n",
    "(so the integral is equal to 1)."
   ]
  },
  {
   "cell_type": "code",
   "execution_count": null,
   "metadata": {},
   "outputs": [],
   "source": [
    "# Import norm from SciPy stats module to compute norm probability distribution function\n",
    "from scipy.stats import norm\n",
    "\n",
    "# Plot normed histogram of data\n",
    "n, bins, patches = plt.hist(x, 20, normed=1.0, facecolor='green', alpha=0.75);\n",
    "\n",
    "# Create array of 100 equally spaces points, stating from the first value in the bins\n",
    "# through to the last values in the bins\n",
    "xf = np.linspace(bins[0], bins[-1], 100)\n",
    "\n",
    "# Evaluate normal probability density function (pdf) at each xf\n",
    "f = norm.pdf(xf)\n",
    "\n",
    "# Create line plot of normal probability distribution function (blue line)\n",
    "plt.plot(xf, f, 'b')\n",
    "\n",
    "# Add labels\n",
    "plt.xlabel('value')\n",
    "plt.ylabel('frequency');"
   ]
  },
  {
   "cell_type": "markdown",
   "metadata": {},
   "source": [
    "Experiment with the histogram plots by changing the number of samples and the number of bins."
   ]
  },
  {
   "cell_type": "markdown",
   "metadata": {},
   "source": [
    "# Pie charts\n",
    "\n",
    "At the time of the 2011 census, the population of Cambridgeshire by district was:\n",
    "\n",
    "District              | Population\n",
    "---------------------:|------------:\n",
    "Cambridge City        | 123900\n",
    "East Cambridgeshire   | 83800\n",
    "Fenland               | 95300\n",
    "Huntingdonshire       | 169500\n",
    "South Cambridgeshire  | 148800\n",
    "\n",
    "As part of a presentation to the Cambridge City council, we need to produce\n",
    "a pie chart of the Cambridgeshire population by district, indicating the percentage of\n",
    "residents in each district and highlighting the Cambridge City 'slice'.\n",
    "\n",
    "To do this, we first enter the data into tuples :"
   ]
  },
  {
   "cell_type": "code",
   "execution_count": null,
   "metadata": {
    "collapsed": true
   },
   "outputs": [],
   "source": [
    "district = ('Cambridge City', 'East Cambridgeshire', 'Fenland', 'Huntingdonshire',\n",
    "            'South Cambridgeshire')\n",
    "population = (123900, 83800, 95300, 169500, 148800)"
   ]
  },
  {
   "cell_type": "markdown",
   "metadata": {},
   "source": [
    "Tuples are appropriate because the number of districts is fixed (recall that we can't change the length of a tuple).\n",
    "\n",
    "We next produce a colour pie chart:"
   ]
  },
  {
   "cell_type": "code",
   "execution_count": null,
   "metadata": {},
   "outputs": [],
   "source": [
    "# Specify slice colours \n",
    "# (see http://stackoverflow.com/questions/22408237/named-colors-in-matplotlib)\n",
    "colors = ['yellowgreen', 'gold', 'lightskyblue', 'lightcoral', 'red']\n",
    "\n",
    "# \"explode\" the 1st slice (Cambridge City)\n",
    "explode = (0.1, 0.0, 0, 0, 0)  \n",
    "\n",
    "# Produce pie chart. The slices will be ordered and plotted counter-clockwise.\n",
    "plt.pie(population, explode=explode, labels=district, colors=colors,\n",
    "        autopct='%1.1f%%', shadow=True, startangle=90)\n",
    "\n",
    "# Add title\n",
    "plt.title(\"2011 population distribution in Cambridgeshire\");"
   ]
  },
  {
   "cell_type": "markdown",
   "metadata": {},
   "source": [
    "# Interactive plots\n",
    "\n",
    "Interactive plots are great ways to explore the influence of parameters on a response.\n",
    "As a simple example, we want to plot\n",
    "\n",
    "$$\n",
    "f(t) = t^{\\alpha} \\sin(\\omega t)\n",
    "$$\n",
    "\n",
    "where $\\alpha$ and $\\omega$ are parameters. We would like to explore interactively the\n",
    "influence of the two parameters."
   ]
  },
  {
   "cell_type": "markdown",
   "metadata": {},
   "source": [
    "## Installing widget extensions\n",
    "\n",
    "Interactive plots be can created using the interactive widgets module `ipywidgets`. \n",
    "Interactive widgets have been configured for you  on https://notebooks.azure.com/.\n",
    "To install the widgets on your own computer, follow the instructions at https://ipywidgets.readthedocs.io/en/latest/user_install.html."
   ]
  },
  {
   "cell_type": "markdown",
   "metadata": {},
   "source": [
    "We first import a function from the `ipywidgets` module:"
   ]
  },
  {
   "cell_type": "code",
   "execution_count": null,
   "metadata": {},
   "outputs": [],
   "source": [
    "from ipywidgets import interact"
   ]
  },
  {
   "cell_type": "markdown",
   "metadata": {},
   "source": [
    "## Creating interactive plots\n",
    "\n",
    "To create an interactive plot, we need to encapsulate our plot code inside a function, with the plot parameters as argument to the function:"
   ]
  },
  {
   "cell_type": "code",
   "execution_count": null,
   "metadata": {},
   "outputs": [],
   "source": [
    "def plot(a=1, w=0):\n",
    "    t = np.linspace(0, 2*np.pi, 200)\n",
    "    plt.xlabel('$t$')\n",
    "    plt.ylabel('$f$')\n",
    "    plt.title(r\"$\\alpha$ = {}, $\\omega$ = {}\".format(a, w))\n",
    "    plt.plot(t, (t**a)*np.sin(w*t))"
   ]
  },
  {
   "cell_type": "markdown",
   "metadata": {},
   "source": [
    "(Remember, to get $\\omega$ and $\\alpha$ use `\\omega` + `Tab` key and `\\alpha` + `Tab` key.)\n",
    "We have used default function arguments - these will be the initial parameters for out interactive plot.\n",
    "\n",
    "Next, we use the `interact` function, passing to it the name of our function that does the plotting \n",
    "(`plot` in this case), and a tuple for each parameters:"
   ]
  },
  {
   "cell_type": "code",
   "execution_count": null,
   "metadata": {},
   "outputs": [],
   "source": [
    "interact(plot, a=(-10, 10, 0.25), w=(0, 2, 0.25));"
   ]
  },
  {
   "cell_type": "markdown",
   "metadata": {},
   "source": [
    "If you have interactive widgets working, you should see two sliders above the plot that you can adjust.\n",
    "The plot should dynamically change.\n",
    "\n",
    "The tuple for each parameters has the form `(end_point0, end_point1, step_size)` for the slider."
   ]
  },
  {
   "cell_type": "markdown",
   "metadata": {},
   "source": [
    "## Advanced interactive plot creation (optional)\n",
    "\n",
    "There is a compact way of constructing interactive plots using function *decorators*. Decorators are not required for this course, so this section is optional. If you are interested, you can find lots of information on decorators online.\n",
    "\n",
    "Below is the interactive plot example constructed using a decorator. "
   ]
  },
  {
   "cell_type": "code",
   "execution_count": null,
   "metadata": {},
   "outputs": [],
   "source": [
    "@interact(a=(-10, 10, 0.25), w=(0, 2, 0.25))\n",
    "def plot(a=1, w=0):\n",
    "    t = np.linspace(0, 2*np.pi, 200)\n",
    "    plt.xlabel('$t$')\n",
    "    plt.ylabel('$f$')\n",
    "    plt.title(r\"$\\alpha$ = {}, $\\omega$ = {}\".format(a, w))\n",
    "    plt.plot(t, (t**a)*np.sin(w*t))"
   ]
  },
  {
   "cell_type": "markdown",
   "metadata": {},
   "source": [
    "The decorator\n",
    "```python\n",
    "@interact(Ï =(-10, 10, 0.25), Î±=(0, 2, 0.25))\n",
    "```\n",
    "is a 'shortcut' that creates the line\n",
    "```python            \n",
    "interact(plot, Ï=(-10, 10, 0.25), Î±=(0, 2, 0.25))\n",
    "```    \n",
    "for us."
   ]
  },
  {
   "cell_type": "markdown",
   "metadata": {},
   "source": [
    "# Contour plots\n",
    "\n",
    "Consider the function of two variables:\n",
    "\n",
    "$$\n",
    "f(x, y) = \\sin(x) \\cos\\left(\\frac{xy^2}{10}\\right)\n",
    "$$\n",
    "\n",
    "It is not easy to visualise the form of this function. One way to visualise the function is to create a contour plot. To do this, we first create points in the $x$ and $y$ directions at which we want to evaluate the function: "
   ]
  },
  {
   "cell_type": "code",
   "execution_count": null,
   "metadata": {
    "collapsed": true
   },
   "outputs": [],
   "source": [
    "N = 50  # 50 points in each direction\n",
    "x = np.linspace(-np.pi, np.pi, N)\n",
    "y = np.linspace(-np.pi, np.pi, N)"
   ]
  },
  {
   "cell_type": "markdown",
   "metadata": {},
   "source": [
    "Next, we use NumPy to create a 'grid' of $(x, y$) points: "
   ]
  },
  {
   "cell_type": "code",
   "execution_count": null,
   "metadata": {},
   "outputs": [],
   "source": [
    "X, Y = np.meshgrid(x, y)"
   ]
  },
  {
   "cell_type": "markdown",
   "metadata": {},
   "source": [
    "If you want to explore what `meshgrid` returns, try making `N` smaller and printing `X` and `Y` to the screen.\n",
    "\n",
    "We now evaluate the function $f$ at each point:"
   ]
  },
  {
   "cell_type": "code",
   "execution_count": null,
   "metadata": {
    "collapsed": true
   },
   "outputs": [],
   "source": [
    "f = np.sin(X)*np.cos((X*Y**2)/10)"
   ]
  },
  {
   "cell_type": "markdown",
   "metadata": {},
   "source": [
    "and then create a filled contour plot using `plt.contourf`:"
   ]
  },
  {
   "cell_type": "code",
   "execution_count": null,
   "metadata": {},
   "outputs": [],
   "source": [
    "plt.contourf(X, Y, f,  cmap=matplotlib.cm.PuBu_r)\n",
    "plt.colorbar();  # Add colour bar (legend)"
   ]
  },
  {
   "cell_type": "markdown",
   "metadata": {},
   "source": [
    "Above, we have chosen a built-in Matplotlib colour map (`matplotlib.cm.PuBu_r`). Without passing the `cmap` argument we would have seen the default colour map, which is `matplotlib.cm.jet` (and which is ugly).\n",
    "\n",
    "To create a contour map using contour lines:"
   ]
  },
  {
   "cell_type": "code",
   "execution_count": null,
   "metadata": {},
   "outputs": [],
   "source": [
    "# Plot\n",
    "p = plt.contour(X, Y, f)\n",
    "\n",
    "# Add contour labels\n",
    "plt.clabel(p, inline=1);"
   ]
  },
  {
   "cell_type": "markdown",
   "metadata": {},
   "source": [
    "There is more we could do, for example controlling the numbers of contour lines."
   ]
  },
  {
   "cell_type": "markdown",
   "metadata": {},
   "source": [
    "# Three-dimensional plot (optional)\n",
    "\n",
    "*This is advanced example. Skip over this if you wish.*\n",
    "\n",
    "Another way to represent a function of two variables is to use a three-dimension plot, with axes for $x$, \n",
    "$y$, and $f$. Plotting in three dimensions is considerably more complex that in two dimensions.\n",
    "\n",
    "To create a three-dimensional plot, we need to import some extra modules from Matplotlib:"
   ]
  },
  {
   "cell_type": "code",
   "execution_count": null,
   "metadata": {
    "collapsed": true
   },
   "outputs": [],
   "source": [
    "from mpl_toolkits.mplot3d import axes3d\n",
    "from matplotlib import cm"
   ]
  },
  {
   "cell_type": "markdown",
   "metadata": {},
   "source": [
    "The below plots the function $f(x, y)$ in three-dimensions:"
   ]
  },
  {
   "cell_type": "code",
   "execution_count": null,
   "metadata": {},
   "outputs": [],
   "source": [
    "fig = plt.figure()\n",
    "ax = fig.gca(projection='3d')\n",
    "\n",
    "surf = ax.plot_surface(X, Y, f, rstride=1, cstride=1, cmap=cm.coolwarm,\n",
    "                       linewidth=0, antialiased=False)\n",
    "                                              \n",
    "ax.set_xlabel('$x$')\n",
    "ax.set_ylabel('$y$')\n",
    "\n",
    "ax.view_init(elev=45);"
   ]
  },
  {
   "cell_type": "markdown",
   "metadata": {},
   "source": [
    "# Plotting data from online resources - stock data\n",
    "\n",
    "It becoming increasingly common to fetch data from the Internet for processing and plotting, and more and more data is being made available, especially government data.\n",
    "\n",
    "To start, we will plot the Rolls Royce stock price over recent years. To fetch financial data, the library\n",
    "`quandl` (https://www.quandl.com/tools/python) is helpful. It was installed at the top this\n",
    "notebook. We first import the module:"
   ]
  },
  {
   "cell_type": "code",
   "execution_count": null,
   "metadata": {},
   "outputs": [],
   "source": [
    "import quandl"
   ]
  },
  {
   "cell_type": "markdown",
   "metadata": {},
   "source": [
    "We then fetch the Rolls Royce stock prices on the London Stock Exchange:"
   ]
  },
  {
   "cell_type": "code",
   "execution_count": null,
   "metadata": {},
   "outputs": [],
   "source": [
    "rr_stock_data = quandl.get(\"LSE/RR\", returns=\"numpy\")  # \"LSE/RR\" is the code on quandl for the Rolls Royce stock price "
   ]
  },
  {
   "cell_type": "markdown",
   "metadata": {},
   "source": [
    "We now have `rr_stock_data` as a special type of NumPy array called a `recarray` (http://docs.scipy.org/doc/numpy/reference/generated/numpy.recarray.html):"
   ]
  },
  {
   "cell_type": "code",
   "execution_count": null,
   "metadata": {},
   "outputs": [],
   "source": [
    "print(type(rr_stock_data))"
   ]
  },
  {
   "cell_type": "markdown",
   "metadata": {},
   "source": [
    "A `recarray` is is a two-dimensional array for which we can extract columns by an associated name. We can check the names using `recarray.dtype`:"
   ]
  },
  {
   "cell_type": "code",
   "execution_count": null,
   "metadata": {},
   "outputs": [],
   "source": [
    "print(rr_stock_data.dtype)"
   ]
  },
  {
   "cell_type": "markdown",
   "metadata": {},
   "source": [
    "Extracting the `Date` and `Price` columns, we can plot the Rolls Royce stock price over time:"
   ]
  },
  {
   "cell_type": "code",
   "execution_count": null,
   "metadata": {},
   "outputs": [],
   "source": [
    "# Plot the stock price\n",
    "plt.plot(rr_stock_data['Date'], rr_stock_data['Price'])\n",
    "\n",
    "# Add axis labels and plot title\n",
    "plt.ylabel(\"stock price (p)\")\n",
    "plt.xlabel(\"year\")\n",
    "plt.title(\"Rolls Royce stock price\")\n",
    "\n",
    "# Rotate the year tick labels\n",
    "plt.xticks(rotation=70);"
   ]
  },
  {
   "cell_type": "markdown",
   "metadata": {},
   "source": [
    "Similarly, we can plot the trading volume (in thousands):"
   ]
  },
  {
   "cell_type": "code",
   "execution_count": null,
   "metadata": {},
   "outputs": [],
   "source": [
    "plt.plot(rr_stock_data['Date'], rr_stock_data['Volume']/1000.0)\n",
    "plt.ylabel(\"trades ('000)\")\n",
    "plt.xlabel(\"year\")\n",
    "plt.title(\"Rolls Royce trading volume\")\n",
    "plt.xticks(rotation=70);"
   ]
  },
  {
   "cell_type": "markdown",
   "metadata": {},
   "source": [
    "# Exercises"
   ]
  },
  {
   "cell_type": "markdown",
   "metadata": {},
   "source": [
    "## Exercise 08.1 (function plotting)\n",
    "\n",
    "Consider the function \n",
    "\n",
    "$$\n",
    "f(x) = e^{x/10} \\sin(\\omega_{1}x)\\cos(\\omega_{0}x)\n",
    "$$\n",
    "\n",
    "from $x = -4\\pi$ to $x = 4\\pi$.  \n",
    "\n",
    "1. Plot the function when $\\omega_{0} = \\omega_{1} = 1$. Label the axes.\n",
    "1. Create an interactive plot with sliders for $\\omega_{0}$ and $\\omega_{1}$, varying from 0 to 2."
   ]
  },
  {
   "cell_type": "code",
   "execution_count": null,
   "metadata": {
    "collapsed": true
   },
   "outputs": [],
   "source": []
  },
  {
   "cell_type": "markdown",
   "metadata": {},
   "source": [
    "## Exercise 08.2 (multiple function plotting)\n",
    "\n",
    "1. Plot the function \n",
    "\n",
    "   $$\n",
    "   f(x)  = \\frac{\\sin(x)}{x}\n",
    "   $$\n",
    "\n",
    "   from $x = -6\\pi$ to $x = 6\\pi$. Think carefully about which $x$ values you use when \n",
    "   $x$ is close to zero.\n",
    "  \n",
    "1. Add to the above plot the graph of $1/ \\left| x \\right|$, and limit the range of the $y$ axis to 1 using\n",
    "   `plt.ylim`. (Hint: use `np.abs(x)` to return the absolute values of each \n",
    "   component of a NumPy array `x`. "
   ]
  },
  {
   "cell_type": "code",
   "execution_count": null,
   "metadata": {
    "collapsed": true
   },
   "outputs": [],
   "source": []
  },
  {
   "cell_type": "markdown",
   "metadata": {},
   "source": [
    "## Exercise 08.3 (demographics and interactive plotting)\n",
    "\n",
    "A county planning body has requested an interactive tool to visualise the population distribution in Cambridgeshire (by district) from 2011 to 2021 for different population growth rate scenarios in each district. It can be assumed that:\n",
    "\n",
    "- the growth rates are constant in each district;\n",
    "- the growth rate will not be negative in any district; and \n",
    "- the annual growth rate in any one district will not exceed 10%.\n",
    "\n",
    "Building on the pie chart example with population data in the body of the notebook, create an interactive plot with:\n",
    "\n",
    "1. A slider for the year (from 2011 to 2021); and\n",
    "2. Sliders for the annual population growth for each district (in percentage), with an \n",
    "   initial value of zero for each district."
   ]
  },
  {
   "cell_type": "code",
   "execution_count": null,
   "metadata": {
    "collapsed": true
   },
   "outputs": [],
   "source": []
  },
  {
   "cell_type": "markdown",
   "metadata": {},
   "source": [
    "## Exercise 08.4 (crime reports by location)\n",
    "\n",
    "\n",
    "### Background\n",
    "\n",
    "Your task is to produce a crime report data plot in the neighborhood of your college, by reported crime\n",
    "category. It will be interesting to see how this varies between colleges!\n",
    "\n",
    "We can get crime data in the UK from the police data systems using what is known as a REST API,\n",
    "and turn the data into a list of Python dictionaries. Each entry in the list is a police report \n",
    "(an entry is a Python dictionary detailing the report).\n",
    "\n",
    "The first step is the import the modules we will be using:"
   ]
  },
  {
   "cell_type": "code",
   "execution_count": null,
   "metadata": {
    "collapsed": true
   },
   "outputs": [],
   "source": [
    "import json\n",
    "import requests"
   ]
  },
  {
   "cell_type": "markdown",
   "metadata": {},
   "source": [
    "The service https://data.police.uk has an interface where we can add specific strings to the URL (web address) to define what data we are intersted in, and the police server will return our requested data. The format is\n",
    "\n",
    "    https://data.police.uk/api/crimes-street/all-crime?poly=[LAT0],[LON0]:[LAT1],[LON1]:[LAT2,LON2]&date=YYYY-MM\n",
    "    \n",
    "This return crimes reports in the triangle given by the three geographic coordinate points `(latitude0, longitude0), (latitude1, longitude1) and (latitude2, longitude2)`, for the month `YYY-MM`.          \n",
    "\n",
    "Below we create this URL string to include a large part of the Cambridge city centre. You can modify this for your own college or other area of interest (Google Maps is a handy way to get the geographic coordinates)."
   ]
  },
  {
   "cell_type": "code",
   "execution_count": null,
   "metadata": {
    "collapsed": true
   },
   "outputs": [],
   "source": [
    "# A triangle that includes most of the Cambridge city centre\n",
    "# (long, lat) for three vertices of a triangle (no spaces!)\n",
    "p0 = '52.211546,0.116465'\n",
    "p1 = '52.203510,0.145500'\n",
    "p2 = '52.189730,0.113050'\n",
    "\n",
    "# year-month of interest\n",
    "year_month = '2016-05'\n",
    "\n",
    "# Construct request URL string using the above data\n",
    "url = 'https://data.police.uk/api/crimes-street/all-crime?poly=' + p0 + ':' + p1 + ':' + p2 + '&date=' + year_month\n",
    "\n",
    "# Fetch data from https://data.police.uk\n",
    "r = requests.get(url)"
   ]
  },
  {
   "cell_type": "markdown",
   "metadata": {},
   "source": [
    "The following converts the fetched data into a list of dictionaries:"
   ]
  },
  {
   "cell_type": "code",
   "execution_count": null,
   "metadata": {
    "collapsed": true
   },
   "outputs": [],
   "source": [
    "crime_data = r.json()"
   ]
  },
  {
   "cell_type": "markdown",
   "metadata": {},
   "source": [
    "To get an idea of how the data is arranged, we can look at the first report in the list. To make the displayed data easier to read, we use the 'pretty print' module `pprint`."
   ]
  },
  {
   "cell_type": "code",
   "execution_count": null,
   "metadata": {},
   "outputs": [],
   "source": [
    "import pprint\n",
    "if crime_data:\n",
    "    pprint.pprint(crime_data[0])"
   ]
  },
  {
   "cell_type": "markdown",
   "metadata": {},
   "source": [
    "### Task\n",
    "\n",
    "\n",
    "Produce a bar chart of the number of reports in different categories. The categories are: "
   ]
  },
  {
   "cell_type": "code",
   "execution_count": null,
   "metadata": {},
   "outputs": [],
   "source": [
    "categories = ('anti-social-behaviour', 'bicycle-theft', 'burglary', 'criminal-damage-arson', \\\n",
    "              'drugs', 'other-crime', 'other-theft', 'public-order', 'shoplifting', \\\n",
    "              'theft-from-the-person', 'vehicle-crime', 'violent-crime')"
   ]
  },
  {
   "cell_type": "markdown",
   "metadata": {},
   "source": [
    "Run your program for different parts of Cambridge, starting with the area around your college, and for different months and years."
   ]
  },
  {
   "cell_type": "markdown",
   "metadata": {},
   "source": [
    "#### Hints:\n",
    "\n",
    "Create an empty dictionary, which will eventually map the report category to the number of incidents:"
   ]
  },
  {
   "cell_type": "code",
   "execution_count": null,
   "metadata": {
    "collapsed": true
   },
   "outputs": [],
   "source": [
    "categories_freq = {}"
   ]
  },
  {
   "cell_type": "markdown",
   "metadata": {},
   "source": [
    "Iterate over all reports in the list, and extract the category string from each report. If the category string (the 'key') is already in the dictionary increment the associated counter. Otherwise add the key to the dictionary, and associate the value 1."
   ]
  },
  {
   "cell_type": "code",
   "execution_count": null,
   "metadata": {},
   "outputs": [],
   "source": [
    "# Iterate over all reports\n",
    "for report in crime_data:\n",
    "    # Get category type from the report\n",
    "    category = report['category']\n",
    "    \n",
    "    if category in categories_freq:\n",
    "        # Increment counter here\n",
    "        pass  # This can be removed once this 'if' block has a body\n",
    "    else:\n",
    "        # Add category to dictionary here\n",
    "        pass  # This can be removed once this 'else' block has a body"
   ]
  },
  {
   "cell_type": "markdown",
   "metadata": {},
   "source": [
    "When adding the tick labels (crime categories), it may be necessary to rotate the labels, e.g.:\n",
    "```python\n",
    "plt.xticks(x_pos, categories, rotation='vertical')\n",
    "```"
   ]
  },
  {
   "cell_type": "markdown",
   "metadata": {},
   "source": [
    "### Extensions (optional)\n",
    "\n",
    "1. Probe the retrieved data to build a set of all crime categories in the data set.\n",
    "2. Explore the temporal (time) aspect of the data. Thinks of ways to represent the change in reported incident \n",
    "   types over time."
   ]
  }
 ],
 "metadata": {
  "anaconda-cloud": {},
  "kernelspec": {
   "display_name": "Python 3",
   "language": "python",
   "name": "python3"
  },
  "language_info": {
   "codemirror_mode": {
    "name": "ipython",
    "version": 3
   },
   "file_extension": ".py",
   "mimetype": "text/x-python",
   "name": "python",
   "nbconvert_exporter": "python",
   "pygments_lexer": "ipython3",
   "version": "3.6.3"
  },
  "widgets": {
   "state": {
    "04bab9efb9674c718a556a2da20b6ac3": {
     "views": [
      {
       "cell_index": 60
      }
     ]
    },
    "b2e3124064634084a1c6845409f45810": {
     "views": [
      {
       "cell_index": 63
      }
     ]
    }
   },
   "version": "1.2.0"
  }
 },
 "nbformat": 4,
 "nbformat_minor": 1
}
